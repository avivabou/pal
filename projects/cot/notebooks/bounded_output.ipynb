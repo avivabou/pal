{
 "cells": [
  {
   "cell_type": "markdown",
   "id": "9be5c7e3",
   "metadata": {},
   "source": [
    "# Preparations"
   ]
  },
  {
   "cell_type": "markdown",
   "id": "ac654a75",
   "metadata": {},
   "source": [
    "## Imports"
   ]
  },
  {
   "cell_type": "code",
   "execution_count": 74,
   "id": "8bd7b791",
   "metadata": {},
   "outputs": [],
   "source": [
    "import torch\n",
    "import torch.nn as nn\n",
    "from torch.utils.data import Dataset, DataLoader\n",
    "import matplotlib.pyplot as plt\n",
    "import numpy as np\n",
    "from cot.models.transformer import Transformer, TransformerConfig\n",
    "import seaborn as sns\n",
    "from typing import List\n",
    "from torch.nn.utils.rnn import pad_sequence\n",
    "import random\n",
    "from tqdm import trange\n",
    "from copy import deepcopy\n",
    "import math"
   ]
  },
  {
   "cell_type": "markdown",
   "id": "d3792e64",
   "metadata": {},
   "source": [
    "## Hyper-params"
   ]
  },
  {
   "cell_type": "code",
   "execution_count": 75,
   "id": "017dc37e",
   "metadata": {},
   "outputs": [],
   "source": [
    "import sys\n",
    "\n",
    "sys.set_int_max_str_digits(100000)"
   ]
  },
  {
   "cell_type": "code",
   "execution_count": 76,
   "id": "4e0b6a96",
   "metadata": {},
   "outputs": [],
   "source": [
    "epochs = 10\n",
    "batch_size = 64\n",
    "min_len = 4\n",
    "max_len = 10\n",
    "total_runs = 10\n",
    "SEQ_LEN=160\n",
    "SAMPLES_SIZE=8192\n",
    "\n",
    "config = TransformerConfig(\n",
    "    vocab_size=12,\n",
    "    emb_dim=128,\n",
    "    n_head=1,\n",
    "    seq_len=SEQ_LEN,\n",
    "    n_layer=2,\n",
    "    norm=\"layer\",\n",
    "    norm_bias=True,\n",
    "    weight_tying=True,\n",
    ")\n"
   ]
  },
  {
   "cell_type": "markdown",
   "id": "c26059c0",
   "metadata": {},
   "source": [
    "## Datasets"
   ]
  },
  {
   "cell_type": "markdown",
   "id": "0352c393",
   "metadata": {},
   "source": [
    "### Polynomial Dataset"
   ]
  },
  {
   "cell_type": "code",
   "execution_count": 77,
   "id": "a5a26ad6",
   "metadata": {},
   "outputs": [],
   "source": [
    "class PolyDataset(torch.utils.data.Dataset):\n",
    "    def __init__(self, p=11):\n",
    "        self.p = p\n",
    "        self.samples = []\n",
    "        for _ in range(SAMPLES_SIZE):\n",
    "            x = torch.randint(0, p, (random.randint(2, SEQ_LEN),))\n",
    "            y = (x[0] * x[1] + 1) % p\n",
    "            target = torch.full((x.size(0),), p, dtype=torch.long)  # label marker\n",
    "            target[-1] = y\n",
    "            self.samples.append((x, target))\n",
    "\n",
    "    def __len__(self):\n",
    "        return len(self.samples)\n",
    "\n",
    "    def __getitem__(self, idx):\n",
    "        return self.samples[idx]\n"
   ]
  },
  {
   "cell_type": "markdown",
   "id": "b199ddf4",
   "metadata": {},
   "source": [
    "### Parity Dataset"
   ]
  },
  {
   "cell_type": "code",
   "execution_count": 78,
   "id": "2a515ff5",
   "metadata": {},
   "outputs": [],
   "source": [
    "class ParityDataset(torch.utils.data.Dataset):\n",
    "    def __init__(self):\n",
    "        self.samples = []\n",
    "        for _ in range(SAMPLES_SIZE):\n",
    "            length = np.random.randint(2, SEQ_LEN + 1)\n",
    "            bits = np.random.randint(0, 2, size=length)\n",
    "            parity = np.cumsum(bits) % 2\n",
    "            self.samples.append((bits, parity))\n",
    "\n",
    "    def __len__(self):\n",
    "        return len(self.samples)\n",
    "\n",
    "    def __getitem__(self, idx):\n",
    "        x, y = self.samples[idx]\n",
    "        return torch.tensor(x, dtype=torch.long), torch.tensor(y, dtype=torch.long)\n"
   ]
  },
  {
   "cell_type": "markdown",
   "id": "0c7473bf",
   "metadata": {},
   "source": [
    "### Factorial Dataset"
   ]
  },
  {
   "cell_type": "code",
   "execution_count": 100,
   "id": "766b0cd4",
   "metadata": {},
   "outputs": [],
   "source": [
    "import math\n",
    "import torch\n",
    "from torch.utils.data import Dataset\n",
    "\n",
    "def strip_trailing_zeros(arr):\n",
    "    i = len(arr)\n",
    "    while i > 0 and arr[i-1] == 0:\n",
    "        i -= 1\n",
    "    zero_count = len(arr[i:])\n",
    "    return arr[:i], [int(d) for d in str(zero_count)]\n",
    "\n",
    "class FactorialDataset(Dataset):\n",
    "    def __init__(self, size=SAMPLES_SIZE):\n",
    "        self.data = []\n",
    "        self.labels = []\n",
    "\n",
    "        max_n = SAMPLES_SIZE * 2 + 1  \n",
    "        for _ in range(size):\n",
    "            n = torch.randint(3, max_n, (1,)).item()\n",
    "            # input = single number n, represented as digits padded to seq_len\n",
    "            x_digits = [int(d) for d in str(n)]\n",
    "            x_digits = [0]*(SEQ_LEN - len(x_digits)) + x_digits  # left pad\n",
    "\n",
    "            # output = factorial(n), also padded/truncated to seq_len\n",
    "            fact = math.factorial(n)\n",
    "            y_digits = [int(d) for d in str(fact)]\n",
    "            y_head, y_tail = strip_trailing_zeros(y_digits)\n",
    "            y_digits = y_head + [10] + y_tail\n",
    "            if len(y_digits) > SEQ_LEN:\n",
    "                y_digits = y_digits[-SEQ_LEN:]  # keep last seq_len digits\n",
    "            else:\n",
    "                y_digits = [0]*(SEQ_LEN - len(y_digits)) + y_digits\n",
    "\n",
    "            self.data.append(torch.tensor(x_digits, dtype=torch.long))\n",
    "            self.labels.append(torch.tensor(y_digits, dtype=torch.long))\n",
    "\n",
    "        self.data = torch.stack(self.data)\n",
    "        self.labels = torch.stack(self.labels)\n",
    "\n",
    "    def __len__(self):\n",
    "        return len(self.data)\n",
    "\n",
    "    def __getitem__(self, idx):\n",
    "        return self.data[idx], self.labels[idx]\n"
   ]
  },
  {
   "cell_type": "markdown",
   "id": "0d07415b",
   "metadata": {},
   "source": [
    "### Fibonacci Dataset"
   ]
  },
  {
   "cell_type": "code",
   "execution_count": 80,
   "id": "1b3a4783",
   "metadata": {},
   "outputs": [],
   "source": [
    "import torch\n",
    "from torch.utils.data import Dataset\n",
    "\n",
    "class FibonacciDataset(Dataset):\n",
    "    def __init__(self, size=1000, seq_len=160):\n",
    "        self.seq_len = seq_len\n",
    "        self.samples = []\n",
    "\n",
    "        # Precompute Fibonacci numbers as strings to avoid overflow\n",
    "        fib_cache = {0: \"0\", 1: \"1\"}\n",
    "        def fib_str(n):\n",
    "            if n in fib_cache:\n",
    "                return fib_cache[n]\n",
    "            a, b = \"0\", \"1\"\n",
    "            for _ in range(2, n+1):\n",
    "                a, b = b, str(int(a) + int(b))\n",
    "            fib_cache[n] = b\n",
    "            return b\n",
    "\n",
    "        for _ in range(size):\n",
    "            n = torch.randint(0, SAMPLES_SIZE * 2 + 1, (1,)).item()\n",
    "            \n",
    "            # Input as digits\n",
    "            x_digits = [int(d) for d in str(n)]\n",
    "            x_digits = [0]*(seq_len - len(x_digits)) + x_digits\n",
    "            input_seq = torch.tensor(x_digits, dtype=torch.long)\n",
    "\n",
    "            # Fibonacci as digits\n",
    "            y_str = fib_str(n)\n",
    "            y_digits = [int(d) for d in y_str]\n",
    "            if len(y_digits) > seq_len:\n",
    "                y_digits = y_digits[-seq_len:]  # keep last seq_len digits\n",
    "            else:\n",
    "                y_digits = [0]*(seq_len - len(y_digits)) + y_digits\n",
    "            target_seq = torch.tensor(y_digits, dtype=torch.long)\n",
    "\n",
    "            self.samples.append((input_seq, target_seq))\n",
    "\n",
    "    def __len__(self):\n",
    "        return len(self.samples)\n",
    "\n",
    "    def __getitem__(self, idx):\n",
    "        return self.samples[idx]\n"
   ]
  },
  {
   "cell_type": "markdown",
   "id": "4345f3e5",
   "metadata": {},
   "source": [
    "### Padding method"
   ]
  },
  {
   "cell_type": "code",
   "execution_count": 81,
   "id": "4618bd7a",
   "metadata": {},
   "outputs": [],
   "source": [
    "def collate_fn(batch):\n",
    "    xs, ys = zip(*batch)\n",
    "    xs = pad_sequence(xs, batch_first=True, padding_value=0)\n",
    "    ys = pad_sequence(ys, batch_first=True, padding_value=0)\n",
    "    return xs, ys"
   ]
  },
  {
   "cell_type": "markdown",
   "id": "25d9bbf5",
   "metadata": {},
   "source": [
    "## Model Object"
   ]
  },
  {
   "cell_type": "code",
   "execution_count": 82,
   "id": "961127be",
   "metadata": {},
   "outputs": [],
   "source": [
    "class Trainer:\n",
    "    all_accuracies = []\n",
    "\n",
    "    def __init__(self, config, batch_size=64):\n",
    "        self.device = torch.device(\"cuda\" if torch.cuda.is_available() else \"cpu\")\n",
    "        self.config = config\n",
    "        self.model = Transformer(config).to(self.device)\n",
    "        self.optimizer = torch.optim.Adam(self.model.parameters(), lr=1e-3)\n",
    "        self.criterion = nn.CrossEntropyLoss()\n",
    "        self.batch_size = batch_size\n",
    "        self.task_counter = {}  \n",
    "        self.accuracies = []\n",
    "        self.static_index = len(Trainer.all_accuracies)   \n",
    "        Trainer.all_accuracies.append([])\n",
    "\n",
    "    def reset_optimizer(self):\n",
    "        self.optimizer = torch.optim.Adam(self.model.parameters(), lr=1e-3)\n",
    "\n",
    "    def __get_dataset__ (self, task):\n",
    "        if task == 'polynomial':\n",
    "            return PolyDataset()\n",
    "        elif task == 'parity':\n",
    "            return ParityDataset()\n",
    "        elif task == 'factorial':\n",
    "            return FactorialDataset()\n",
    "        elif task == 'fibonacci':\n",
    "            return FibonacciDataset()\n",
    "        else:\n",
    "            raise ValueError(\"Unknown task\")\n",
    "\n",
    "    def train(self, task='polynomial', epochs=10):\n",
    "        dataset = self.__get_dataset__(task)\n",
    "        count = self.task_counter.get(task, 0) + 1\n",
    "        self.task_counter[task] = count\n",
    "        task_name = f\"{task} {count}\"\n",
    "\n",
    "        loader = DataLoader(dataset, batch_size=self.batch_size, shuffle=True, collate_fn=collate_fn)\n",
    "        accs = []\n",
    "\n",
    "        pbar = trange(epochs)\n",
    "        for epoch in pbar:\n",
    "            self.model.train()\n",
    "            total_loss = 0\n",
    "            for x, y in loader:\n",
    "                x, y = x.to(self.device), y.to(self.device)\n",
    "                self.optimizer.zero_grad()\n",
    "                logits = self.model(x)\n",
    "                loss = self.criterion(logits.view(-1, logits.size(-1)), y.view(-1))\n",
    "                loss.backward()\n",
    "                self.optimizer.step()\n",
    "                total_loss += loss.item()\n",
    "\n",
    "            acc = self.evaluate(loader, verbose=False)\n",
    "            accs.append(acc)\n",
    "            avg_loss = total_loss / len(loader)\n",
    "            pbar.set_description(f\"Epoch {epoch} | Loss: {avg_loss:.4f} | Acc: {acc:.2%}\")\n",
    "\n",
    "        self.accuracies.append({\n",
    "            \"name\": task_name,\n",
    "            \"accs\": accs\n",
    "        })\n",
    "        \n",
    "        Trainer.all_accuracies[self.static_index] = [a for entry in self.accuracies for a in entry[\"accs\"]]\n",
    "\n",
    "    def evaluate(self, loader, verbose=True):\n",
    "        self.model.eval()\n",
    "        correct = 0\n",
    "        total = 0\n",
    "        with torch.no_grad():\n",
    "            for x, y in loader:\n",
    "                x, y = x.to(self.device), y.to(self.device)\n",
    "                logits = self.model(x)\n",
    "                preds = torch.argmax(logits, dim=-1)\n",
    "                correct += (preds == y).sum().item()\n",
    "                total += y.numel()\n",
    "        acc = correct / total\n",
    "        if verbose:\n",
    "            print(f\"Accuracy: {acc:.2%}\")\n",
    "\n",
    "        return acc\n",
    "\n",
    "    def plot_accuracy(self):\n",
    "        if not self.accuracies:\n",
    "            print(\"No runs to plot.\")\n",
    "            return\n",
    "\n",
    "        start_x = 0\n",
    "        for entry in self.accuracies:\n",
    "            name = entry[\"name\"]\n",
    "            accs = entry[\"accs\"]\n",
    "            x = list(range(start_x, start_x + len(accs)))\n",
    "            plt.plot(x, accs, label=name)\n",
    "            start_x += len(accs)\n",
    "    \n",
    "        plt.xlabel(\"Epoch\")\n",
    "        plt.ylabel(\"Accuracy\")\n",
    "        plt.title(\"Accuracy Over Epochs\")\n",
    "        plt.legend()\n",
    "        plt.grid()\n",
    "        plt.show()\n",
    "\n",
    "    def fork(self):\n",
    "        new_trainer = Trainer(self.config, batch_size=self.batch_size)\n",
    "        new_trainer.model.load_state_dict(deepcopy(self.model.state_dict()))\n",
    "        new_trainer.optimizer.load_state_dict(deepcopy(self.optimizer.state_dict()))\n",
    "        new_trainer.criterion = deepcopy(self.criterion)\n",
    "        new_trainer.task_counter = deepcopy(self.task_counter)\n",
    "        new_trainer.accuracies = deepcopy(self.accuracies)\n",
    "\n",
    "        Trainer.all_accuracies[new_trainer.static_index] = deepcopy(\n",
    "            Trainer.all_accuracies[self.static_index]\n",
    "        )\n",
    "\n",
    "        return new_trainer\n",
    "\n",
    "\n",
    "    @staticmethod\n",
    "    def summarize_runs():\n",
    "        valid_runs = [a for a in Trainer.all_accuracies if a]\n",
    "\n",
    "        if not valid_runs:\n",
    "            print(\"No valid runs to summarize.\")\n",
    "            return\n",
    "\n",
    "        max_len = max(len(a) for a in valid_runs)\n",
    "        padded = [a + [a[-1]] * (max_len - len(a)) for a in valid_runs]\n",
    "        mean_acc = np.mean(padded, axis=0)\n",
    "        std_acc = np.std(padded, axis=0)\n",
    "\n",
    "        plt.plot(mean_acc, label=\"Mean Accuracy\")\n",
    "        plt.fill_between(range(max_len), mean_acc - std_acc, mean_acc + std_acc, alpha=0.3, label=\"±1 std\")\n",
    "        plt.xlabel(\"Epoch\")\n",
    "        plt.ylabel(\"Accuracy\")\n",
    "        plt.title(\"Average Accuracy Over Runs\")\n",
    "        plt.legend()\n",
    "        plt.grid(True)\n",
    "        plt.show()"
   ]
  },
  {
   "cell_type": "markdown",
   "id": "f1c6c191",
   "metadata": {},
   "source": [
    "# Replication"
   ]
  },
  {
   "cell_type": "markdown",
   "id": "c0890f75",
   "metadata": {},
   "source": [
    "## Train"
   ]
  },
  {
   "cell_type": "code",
   "execution_count": 83,
   "id": "abbd19f8",
   "metadata": {},
   "outputs": [],
   "source": [
    "poly_trainer = Trainer(config)"
   ]
  },
  {
   "cell_type": "markdown",
   "id": "595a144f",
   "metadata": {},
   "source": [
    "### Polynomial training"
   ]
  },
  {
   "cell_type": "code",
   "execution_count": 84,
   "id": "ba92526f",
   "metadata": {},
   "outputs": [
    {
     "name": "stderr",
     "output_type": "stream",
     "text": [
      "Epoch 199 | Loss: 0.0047 | Acc: 99.86%: 100%|██████████| 200/200 [1:23:02<00:00, 24.91s/it]\n"
     ]
    }
   ],
   "source": [
    "poly_trainer.train(task='polynomial', epochs=200)"
   ]
  },
  {
   "cell_type": "code",
   "execution_count": 85,
   "id": "37dc8025",
   "metadata": {},
   "outputs": [
    {
     "name": "stdout",
     "output_type": "stream",
     "text": [
      "Accuracy: 97.28%\n"
     ]
    },
    {
     "data": {
      "image/png": "[encoded data removed]",
      "text/plain": [
       "<Figure size 640x480 with 1 Axes>"
      ]
     },
     "metadata": {},
     "output_type": "display_data"
    }
   ],
   "source": [
    "poly_loader = DataLoader(PolyDataset())\n",
    "poly_trainer.evaluate(poly_loader)\n",
    "poly_trainer.plot_accuracy()"
   ]
  },
  {
   "cell_type": "markdown",
   "id": "0a166d60",
   "metadata": {},
   "source": [
    "### Parity training"
   ]
  },
  {
   "cell_type": "code",
   "execution_count": 86,
   "id": "c85b3c2b",
   "metadata": {},
   "outputs": [
    {
     "name": "stderr",
     "output_type": "stream",
     "text": [
      "Epoch 49 | Loss: 0.3013 | Acc: 80.53%: 100%|██████████| 50/50 [20:56<00:00, 25.13s/it]\n"
     ]
    }
   ],
   "source": [
    "parity_trainer = poly_trainer.fork()\n",
    "parity_trainer.reset_optimizer()\n",
    "parity_trainer.train(task='parity', epochs=50)"
   ]
  },
  {
   "cell_type": "code",
   "execution_count": 87,
   "id": "1b0a91a5",
   "metadata": {},
   "outputs": [
    {
     "name": "stdout",
     "output_type": "stream",
     "text": [
      "Accuracy: 60.39%\n"
     ]
    },
    {
     "data": {
      "text/plain": [
       "0.6039202997787777"
      ]
     },
     "execution_count": 87,
     "metadata": {},
     "output_type": "execute_result"
    }
   ],
   "source": [
    "parity_loader = DataLoader(ParityDataset())\n",
    "parity_trainer.evaluate(parity_loader)"
   ]
  },
  {
   "cell_type": "code",
   "execution_count": 88,
   "id": "dd66633f",
   "metadata": {},
   "outputs": [
    {
     "data": {
      "image/png": "[encoded data removed]",
      "text/plain": [
       "<Figure size 640x480 with 1 Axes>"
      ]
     },
     "metadata": {},
     "output_type": "display_data"
    }
   ],
   "source": [
    "parity_trainer.plot_accuracy()"
   ]
  },
  {
   "cell_type": "markdown",
   "id": "c0bb895c",
   "metadata": {},
   "source": [
    "# Advanced Datasets to test"
   ]
  },
  {
   "cell_type": "markdown",
   "id": "83a8af2a",
   "metadata": {},
   "source": [
    "## Factorial training"
   ]
  },
  {
   "cell_type": "code",
   "execution_count": 105,
   "id": "416a1a92",
   "metadata": {},
   "outputs": [
    {
     "name": "stderr",
     "output_type": "stream",
     "text": [
      "Epoch 249 | Loss: 2.2355 | Acc: 13.14%: 100%|██████████| 250/250 [1:44:58<00:00, 25.19s/it]\n"
     ]
    }
   ],
   "source": [
    "factorial_trainer = Trainer(config) #poly_trainer.fork()\n",
    "#factorial_trainer.reset_optimizer()\n",
    "factorial_trainer.train(task='factorial', epochs=250)"
   ]
  },
  {
   "cell_type": "code",
   "execution_count": 106,
   "id": "5e00c7fb",
   "metadata": {},
   "outputs": [
    {
     "data": {
      "image/png": "[encoded data removed]",
      "text/plain": [
       "<Figure size 640x480 with 1 Axes>"
      ]
     },
     "metadata": {},
     "output_type": "display_data"
    }
   ],
   "source": [
    "factorial_trainer.plot_accuracy()"
   ]
  },
  {
   "cell_type": "markdown",
   "id": "d422e550",
   "metadata": {},
   "source": [
    "## Fibonacci training"
   ]
  },
  {
   "cell_type": "code",
   "execution_count": 91,
   "id": "20b29462",
   "metadata": {},
   "outputs": [
    {
     "name": "stderr",
     "output_type": "stream",
     "text": [
      "Epoch 49 | Loss: 2.3001 | Acc: 12.32%: 100%|██████████| 50/50 [02:35<00:00,  3.12s/it]\n"
     ]
    }
   ],
   "source": [
    "fibonacci_trainer = poly_trainer.fork()\n",
    "fibonacci_trainer.reset_optimizer()\n",
    "fibonacci_trainer.train(task='fibonacci', epochs=50)"
   ]
  },
  {
   "cell_type": "code",
   "execution_count": 92,
   "id": "49c809ef",
   "metadata": {},
   "outputs": [
    {
     "data": {
      "image/png": "[encoded data removed]",
      "text/plain": [
       "<Figure size 640x480 with 1 Axes>"
      ]
     },
     "metadata": {},
     "output_type": "display_data"
    }
   ],
   "source": [
    "fibonacci_trainer.plot_accuracy()"
   ]
  },
  {
   "cell_type": "markdown",
   "id": "b59eb861",
   "metadata": {},
   "source": [
    "# Multi-runs"
   ]
  },
  {
   "cell_type": "code",
   "execution_count": 93,
   "id": "949c2268",
   "metadata": {},
   "outputs": [],
   "source": [
    "#for _ in range(total_runs):\n",
    "#    trainer = Trainer(config)\n",
    "#    trainer.train(task='polynomial', epochs=200)\n",
    "#    trainer.reset_optimizer()\n",
    "#    trainer.train(task='parity', epochs=50)\n",
    "\n",
    "# After several trainers\n",
    "#Trainer.summarize_runs()\n"
   ]
  },
  {
   "cell_type": "code",
   "execution_count": null,
   "id": "c51b48cb",
   "metadata": {},
   "outputs": [],
   "source": [
    "fds = FibonacciDataset()\n",
    "fds2 = [fds.__getitem__(i) for i in range(50)]\n",
    "print(fds2)"
   ]
  },
  {
   "cell_type": "code",
   "execution_count": 101,
   "id": "f3a83eaa",
   "metadata": {},
   "outputs": [
    {
     "name": "stdout",
     "output_type": "stream",
     "text": [
      "[(tensor([0, 0, 0, 0, 0, 0, 0, 0, 0, 0, 0, 0, 0, 0, 0, 0, 0, 0, 0, 0, 0, 0, 0, 0,\n",
      "        0, 0, 0, 0, 0, 0, 0, 0, 0, 0, 0, 0, 0, 0, 0, 0, 0, 0, 0, 0, 0, 0, 0, 0,\n",
      "        0, 0, 0, 0, 0, 0, 0, 0, 0, 0, 0, 0, 0, 0, 0, 0, 0, 0, 0, 0, 0, 0, 0, 0,\n",
      "        0, 0, 0, 0, 0, 0, 0, 0, 0, 0, 0, 0, 0, 0, 0, 0, 0, 0, 0, 0, 0, 0, 0, 0,\n",
      "        0, 0, 0, 0, 0, 0, 0, 0, 0, 0, 0, 0, 0, 0, 0, 0, 0, 0, 0, 0, 0, 0, 0, 0,\n",
      "        0, 0, 0, 0, 0, 0, 0, 0, 0, 0, 0, 0, 0, 0, 0, 0, 0, 0, 0, 0, 0, 0, 0, 0,\n",
      "        0, 0, 0, 0, 0, 0, 0, 0, 0, 0, 0, 0, 0, 0, 1, 7]), tensor([ 0,  0,  0,  0,  0,  0,  0,  0,  0,  0,  0,  0,  0,  0,  0,  0,  0,  0,\n",
      "         0,  0,  0,  0,  0,  0,  0,  0,  0,  0,  0,  0,  0,  0,  0,  0,  0,  0,\n",
      "         0,  0,  0,  0,  0,  0,  0,  0,  0,  0,  0,  0,  0,  0,  0,  0,  0,  0,\n",
      "         0,  0,  0,  0,  0,  0,  0,  0,  0,  0,  0,  0,  0,  0,  0,  0,  0,  0,\n",
      "         0,  0,  0,  0,  0,  0,  0,  0,  0,  0,  0,  0,  0,  0,  0,  0,  0,  0,\n",
      "         0,  0,  0,  0,  0,  0,  0,  0,  0,  0,  0,  0,  0,  0,  0,  0,  0,  0,\n",
      "         0,  0,  0,  0,  0,  0,  0,  0,  0,  0,  0,  0,  0,  0,  0,  0,  0,  0,\n",
      "         0,  0,  0,  0,  0,  0,  0,  0,  0,  0,  0,  0,  0,  0,  0,  0,  0,  0,\n",
      "         0,  0,  3,  5,  5,  6,  8,  7,  4,  2,  8,  0,  9,  6, 10,  3])), (tensor([0, 0, 0, 0, 0, 0, 0, 0, 0, 0, 0, 0, 0, 0, 0, 0, 0, 0, 0, 0, 0, 0, 0, 0,\n",
      "        0, 0, 0, 0, 0, 0, 0, 0, 0, 0, 0, 0, 0, 0, 0, 0, 0, 0, 0, 0, 0, 0, 0, 0,\n",
      "        0, 0, 0, 0, 0, 0, 0, 0, 0, 0, 0, 0, 0, 0, 0, 0, 0, 0, 0, 0, 0, 0, 0, 0,\n",
      "        0, 0, 0, 0, 0, 0, 0, 0, 0, 0, 0, 0, 0, 0, 0, 0, 0, 0, 0, 0, 0, 0, 0, 0,\n",
      "        0, 0, 0, 0, 0, 0, 0, 0, 0, 0, 0, 0, 0, 0, 0, 0, 0, 0, 0, 0, 0, 0, 0, 0,\n",
      "        0, 0, 0, 0, 0, 0, 0, 0, 0, 0, 0, 0, 0, 0, 0, 0, 0, 0, 0, 0, 0, 0, 0, 0,\n",
      "        0, 0, 0, 0, 0, 0, 0, 0, 0, 0, 0, 0, 1, 0, 0, 9]), tensor([ 5,  7,  5,  0,  5,  0,  0,  1,  6,  7,  5,  2,  6,  1,  0,  5,  9,  9,\n",
      "         9,  0,  6,  8,  1,  9,  4,  5,  5,  9,  8,  3,  8,  2,  6,  3,  9,  2,\n",
      "         5,  8,  1,  4,  5,  1,  5,  5,  7,  2,  6,  5,  7,  9,  8,  7,  3,  1,\n",
      "         0,  3,  4,  4,  5,  0,  4,  6,  3,  7,  3,  1,  6,  9,  5,  5,  7,  0,\n",
      "         5,  0,  0,  1,  5,  4,  3,  5,  9,  9,  6,  2,  1,  3,  1,  0,  2,  2,\n",
      "         9,  7,  1,  8,  9,  1,  9,  0,  7,  6,  0,  7,  2,  8,  8,  6,  4,  3,\n",
      "         0,  2,  8,  9,  7,  0,  6,  4,  3,  0,  4,  8,  7,  1,  5,  7,  1,  8,\n",
      "         5,  6,  8,  6,  4,  7,  8,  7,  8,  2,  1,  8,  3,  3,  0,  1,  5,  2,\n",
      "         8,  2,  9,  3,  8,  5,  1,  7,  9,  1,  3,  6, 10,  2,  5,  0])), (tensor([0, 0, 0, 0, 0, 0, 0, 0, 0, 0, 0, 0, 0, 0, 0, 0, 0, 0, 0, 0, 0, 0, 0, 0,\n",
      "        0, 0, 0, 0, 0, 0, 0, 0, 0, 0, 0, 0, 0, 0, 0, 0, 0, 0, 0, 0, 0, 0, 0, 0,\n",
      "        0, 0, 0, 0, 0, 0, 0, 0, 0, 0, 0, 0, 0, 0, 0, 0, 0, 0, 0, 0, 0, 0, 0, 0,\n",
      "        0, 0, 0, 0, 0, 0, 0, 0, 0, 0, 0, 0, 0, 0, 0, 0, 0, 0, 0, 0, 0, 0, 0, 0,\n",
      "        0, 0, 0, 0, 0, 0, 0, 0, 0, 0, 0, 0, 0, 0, 0, 0, 0, 0, 0, 0, 0, 0, 0, 0,\n",
      "        0, 0, 0, 0, 0, 0, 0, 0, 0, 0, 0, 0, 0, 0, 0, 0, 0, 0, 0, 0, 0, 0, 0, 0,\n",
      "        0, 0, 0, 0, 0, 0, 0, 0, 0, 0, 0, 0, 3, 0, 7, 8]), tensor([ 4,  9,  0,  1,  5,  8,  8,  9,  4,  3,  0,  8,  1,  8,  0,  9,  0,  8,\n",
      "         2,  4,  5,  0,  2,  6,  5,  5,  5,  2,  9,  4,  9,  0,  0,  2,  2,  4,\n",
      "         3,  9,  7,  0,  5,  6,  1,  6,  8,  5,  6,  3,  6,  9,  5,  4,  7,  4,\n",
      "         8,  3,  8,  8,  0,  8,  1,  5,  6,  8,  2,  0,  7,  1,  4,  6,  3,  3,\n",
      "         4,  4,  2,  8,  7,  3,  6,  4,  0,  5,  9,  0,  3,  9,  9,  7,  5,  1,\n",
      "         0,  6,  8,  9,  9,  3,  9,  1,  9,  3,  5,  5,  1,  3,  8,  3,  2,  0,\n",
      "         4,  1,  9,  0,  5,  9,  8,  8,  3,  8,  5,  3,  5,  4,  0,  4,  6,  3,\n",
      "         7,  5,  4,  2,  7,  6,  1,  4,  7,  3,  9,  5,  5,  4,  8,  4,  7,  2,\n",
      "         7,  1,  4,  9,  3,  7,  2,  3,  7,  5,  0,  4, 10,  7,  6,  6])), (tensor([0, 0, 0, 0, 0, 0, 0, 0, 0, 0, 0, 0, 0, 0, 0, 0, 0, 0, 0, 0, 0, 0, 0, 0,\n",
      "        0, 0, 0, 0, 0, 0, 0, 0, 0, 0, 0, 0, 0, 0, 0, 0, 0, 0, 0, 0, 0, 0, 0, 0,\n",
      "        0, 0, 0, 0, 0, 0, 0, 0, 0, 0, 0, 0, 0, 0, 0, 0, 0, 0, 0, 0, 0, 0, 0, 0,\n",
      "        0, 0, 0, 0, 0, 0, 0, 0, 0, 0, 0, 0, 0, 0, 0, 0, 0, 0, 0, 0, 0, 0, 0, 0,\n",
      "        0, 0, 0, 0, 0, 0, 0, 0, 0, 0, 0, 0, 0, 0, 0, 0, 0, 0, 0, 0, 0, 0, 0, 0,\n",
      "        0, 0, 0, 0, 0, 0, 0, 0, 0, 0, 0, 0, 0, 0, 0, 0, 0, 0, 0, 0, 0, 0, 0, 0,\n",
      "        0, 0, 0, 0, 0, 0, 0, 0, 0, 0, 0, 0, 1, 8, 4, 9]), tensor([ 6,  5,  2,  7,  9,  8,  1,  1,  8,  7,  6,  5,  1,  0,  4,  2,  4,  7,\n",
      "         1,  2,  1,  8,  0,  8,  5,  3,  9,  9,  1,  1,  8,  6,  1,  3,  8,  9,\n",
      "         6,  4,  7,  3,  7,  6,  1,  2,  7,  7,  8,  4,  4,  6,  0,  1,  5,  3,\n",
      "         9,  3,  6,  0,  7,  0,  9,  2,  5,  1,  3,  8,  2,  4,  4,  6,  0,  6,\n",
      "         4,  0,  4,  8,  6,  0,  1,  9,  2,  9,  5,  5,  5,  4,  5,  7,  2,  6,\n",
      "         2,  7,  3,  1,  0,  2,  9,  3,  7,  0,  5,  5,  7,  6,  0,  3,  7,  5,\n",
      "         2,  0,  6,  7,  5,  2,  2,  3,  2,  1,  5,  7,  4,  1,  2,  6,  9,  1,\n",
      "         7,  7,  5,  2,  2,  9,  4,  3,  5,  9,  4,  3,  0,  5,  1,  2,  4,  1,\n",
      "         4,  8,  0,  9,  8,  3,  1,  5,  0,  5,  9,  2, 10,  4,  5,  8])), (tensor([0, 0, 0, 0, 0, 0, 0, 0, 0, 0, 0, 0, 0, 0, 0, 0, 0, 0, 0, 0, 0, 0, 0, 0,\n",
      "        0, 0, 0, 0, 0, 0, 0, 0, 0, 0, 0, 0, 0, 0, 0, 0, 0, 0, 0, 0, 0, 0, 0, 0,\n",
      "        0, 0, 0, 0, 0, 0, 0, 0, 0, 0, 0, 0, 0, 0, 0, 0, 0, 0, 0, 0, 0, 0, 0, 0,\n",
      "        0, 0, 0, 0, 0, 0, 0, 0, 0, 0, 0, 0, 0, 0, 0, 0, 0, 0, 0, 0, 0, 0, 0, 0,\n",
      "        0, 0, 0, 0, 0, 0, 0, 0, 0, 0, 0, 0, 0, 0, 0, 0, 0, 0, 0, 0, 0, 0, 0, 0,\n",
      "        0, 0, 0, 0, 0, 0, 0, 0, 0, 0, 0, 0, 0, 0, 0, 0, 0, 0, 0, 0, 0, 0, 0, 0,\n",
      "        0, 0, 0, 0, 0, 0, 0, 0, 0, 0, 0, 1, 1, 7, 9, 0]), tensor([ 5,  2,  4,  9,  7,  8,  5,  1,  5,  8,  4,  1,  3,  9,  2,  1,  4,  0,\n",
      "         3,  3,  5,  9,  5,  3,  3,  4,  4,  3,  2,  0,  8,  8,  3,  4,  4,  4,\n",
      "         8,  7,  2,  2,  6,  9,  3,  5,  4,  6,  1,  2,  4,  6,  9,  3,  8,  0,\n",
      "         7,  9,  1,  5,  1,  6,  9,  6,  5,  5,  0,  0,  4,  6,  3,  4,  1,  6,\n",
      "         8,  6,  2,  3,  0,  2,  9,  8,  2,  4,  5,  6,  8,  8,  6,  6,  9,  0,\n",
      "         7,  5,  0,  9,  1,  1,  3,  8,  5,  4,  4,  6,  7,  4,  1,  6,  4,  6,\n",
      "         2,  1,  7,  2,  1,  5,  2,  6,  1,  7,  0,  0,  1,  7,  2,  7,  0,  1,\n",
      "         6,  4,  9,  1,  3,  0,  8,  9,  8,  6,  8,  0,  1,  0,  5,  5,  7,  7,\n",
      "         5,  4,  2,  9,  3,  8,  7,  8,  7,  8,  4, 10,  2,  9,  4,  4])), (tensor([0, 0, 0, 0, 0, 0, 0, 0, 0, 0, 0, 0, 0, 0, 0, 0, 0, 0, 0, 0, 0, 0, 0, 0,\n",
      "        0, 0, 0, 0, 0, 0, 0, 0, 0, 0, 0, 0, 0, 0, 0, 0, 0, 0, 0, 0, 0, 0, 0, 0,\n",
      "        0, 0, 0, 0, 0, 0, 0, 0, 0, 0, 0, 0, 0, 0, 0, 0, 0, 0, 0, 0, 0, 0, 0, 0,\n",
      "        0, 0, 0, 0, 0, 0, 0, 0, 0, 0, 0, 0, 0, 0, 0, 0, 0, 0, 0, 0, 0, 0, 0, 0,\n",
      "        0, 0, 0, 0, 0, 0, 0, 0, 0, 0, 0, 0, 0, 0, 0, 0, 0, 0, 0, 0, 0, 0, 0, 0,\n",
      "        0, 0, 0, 0, 0, 0, 0, 0, 0, 0, 0, 0, 0, 0, 0, 0, 0, 0, 0, 0, 0, 0, 0, 0,\n",
      "        0, 0, 0, 0, 0, 0, 0, 0, 0, 0, 0, 0, 3, 2, 1, 1]), tensor([ 2,  5,  2,  5,  4,  0,  6,  5,  0,  0,  2,  3,  5,  8,  7,  9,  7,  9,\n",
      "         7,  5,  1,  2,  3,  1,  3,  8,  6,  4,  5,  6,  3,  4,  9,  2,  5,  9,\n",
      "         9,  9,  0,  4,  0,  2,  3,  1,  4,  7,  2,  6,  7,  2,  1,  1,  3,  9,\n",
      "         0,  9,  0,  8,  0,  5,  6,  6,  5,  3,  1,  0,  3,  5,  8,  8,  7,  6,\n",
      "         7,  2,  0,  7,  3,  9,  7,  4,  7,  2,  6,  8,  6,  2,  8,  8,  9,  0,\n",
      "         3,  0,  8,  0,  2,  5,  1,  8,  2,  3,  8,  8,  6,  9,  0,  6,  4,  5,\n",
      "         2,  0,  1,  6,  7,  4,  6,  5,  1,  2,  0,  4,  6,  9,  4,  5,  8,  3,\n",
      "         5,  7,  0,  0,  2,  5,  4,  8,  0,  7,  9,  6,  6,  7,  3,  0,  9,  2,\n",
      "         1,  4,  3,  7,  2,  8,  8,  2,  0,  2,  2,  4, 10,  8,  0,  1])), (tensor([0, 0, 0, 0, 0, 0, 0, 0, 0, 0, 0, 0, 0, 0, 0, 0, 0, 0, 0, 0, 0, 0, 0, 0,\n",
      "        0, 0, 0, 0, 0, 0, 0, 0, 0, 0, 0, 0, 0, 0, 0, 0, 0, 0, 0, 0, 0, 0, 0, 0,\n",
      "        0, 0, 0, 0, 0, 0, 0, 0, 0, 0, 0, 0, 0, 0, 0, 0, 0, 0, 0, 0, 0, 0, 0, 0,\n",
      "        0, 0, 0, 0, 0, 0, 0, 0, 0, 0, 0, 0, 0, 0, 0, 0, 0, 0, 0, 0, 0, 0, 0, 0,\n",
      "        0, 0, 0, 0, 0, 0, 0, 0, 0, 0, 0, 0, 0, 0, 0, 0, 0, 0, 0, 0, 0, 0, 0, 0,\n",
      "        0, 0, 0, 0, 0, 0, 0, 0, 0, 0, 0, 0, 0, 0, 0, 0, 0, 0, 0, 0, 0, 0, 0, 0,\n",
      "        0, 0, 0, 0, 0, 0, 0, 0, 0, 0, 0, 1, 5, 2, 3, 3]), tensor([ 3,  1,  1,  2,  4,  1,  0,  1,  8,  7,  7,  0,  2,  0,  1,  2,  3,  4,\n",
      "         2,  7,  1,  3,  0,  6,  2,  5,  6,  5,  7,  7,  9,  1,  5,  8,  1,  5,\n",
      "         4,  1,  1,  0,  3,  8,  3,  7,  1,  4,  0,  5,  2,  9,  2,  1,  9,  2,\n",
      "         2,  5,  4,  9,  3,  7,  3,  5,  3,  1,  0,  7,  5,  4,  8,  4,  7,  9,\n",
      "         8,  9,  2,  0,  0,  2,  4,  1,  7,  4,  8,  2,  3,  3,  3,  5,  6,  0,\n",
      "         2,  3,  0,  6,  1,  9,  5,  9,  4,  2,  1,  8,  4,  4,  9,  7,  2,  1,\n",
      "         4,  6,  7,  0,  6,  6,  9,  2,  1,  0,  6,  9,  1,  3,  1,  8,  7,  8,\n",
      "         4,  9,  8,  4,  9,  0,  1,  8,  6,  8,  9,  0,  6,  5,  2,  9,  0,  2,\n",
      "         1,  0,  4,  9,  0,  7,  1,  2,  0,  6,  4, 10,  3,  8,  0,  4])), (tensor([0, 0, 0, 0, 0, 0, 0, 0, 0, 0, 0, 0, 0, 0, 0, 0, 0, 0, 0, 0, 0, 0, 0, 0,\n",
      "        0, 0, 0, 0, 0, 0, 0, 0, 0, 0, 0, 0, 0, 0, 0, 0, 0, 0, 0, 0, 0, 0, 0, 0,\n",
      "        0, 0, 0, 0, 0, 0, 0, 0, 0, 0, 0, 0, 0, 0, 0, 0, 0, 0, 0, 0, 0, 0, 0, 0,\n",
      "        0, 0, 0, 0, 0, 0, 0, 0, 0, 0, 0, 0, 0, 0, 0, 0, 0, 0, 0, 0, 0, 0, 0, 0,\n",
      "        0, 0, 0, 0, 0, 0, 0, 0, 0, 0, 0, 0, 0, 0, 0, 0, 0, 0, 0, 0, 0, 0, 0, 0,\n",
      "        0, 0, 0, 0, 0, 0, 0, 0, 0, 0, 0, 0, 0, 0, 0, 0, 0, 0, 0, 0, 0, 0, 0, 0,\n",
      "        0, 0, 0, 0, 0, 0, 0, 0, 0, 0, 0, 0, 6, 5, 3, 5]), tensor([ 7,  3,  9,  9,  5,  4,  7,  9,  9,  4,  6,  3,  2,  4,  7,  3,  9,  0,\n",
      "         7,  7,  7,  5,  4,  9,  5,  2,  7,  8,  7,  2,  2,  3,  0,  8,  1,  6,\n",
      "         2,  0,  2,  7,  0,  3,  3,  5,  7,  4,  3,  0,  7,  2,  1,  4,  0,  4,\n",
      "         4,  1,  2,  8,  4,  6,  3,  6,  1,  4,  8,  7,  6,  2,  1,  1,  4,  2,\n",
      "         8,  1,  2,  7,  2,  2,  2,  9,  9,  3,  5,  1,  2,  4,  2,  7,  3,  2,\n",
      "         3,  6,  8,  7,  4,  8,  5,  0,  0,  7,  2,  1,  5,  6,  4,  9,  3,  8,\n",
      "         5,  8,  2,  1,  7,  9,  7,  9,  4,  5,  7,  5,  5,  0,  4,  3,  1,  3,\n",
      "         8,  4,  8,  4,  7,  3,  8,  0,  3,  8,  5,  6,  9,  2,  5,  6,  9,  8,\n",
      "         3,  8,  9,  0,  5,  4,  5,  8,  6,  8,  8, 10,  1,  6,  3,  2])), (tensor([0, 0, 0, 0, 0, 0, 0, 0, 0, 0, 0, 0, 0, 0, 0, 0, 0, 0, 0, 0, 0, 0, 0, 0,\n",
      "        0, 0, 0, 0, 0, 0, 0, 0, 0, 0, 0, 0, 0, 0, 0, 0, 0, 0, 0, 0, 0, 0, 0, 0,\n",
      "        0, 0, 0, 0, 0, 0, 0, 0, 0, 0, 0, 0, 0, 0, 0, 0, 0, 0, 0, 0, 0, 0, 0, 0,\n",
      "        0, 0, 0, 0, 0, 0, 0, 0, 0, 0, 0, 0, 0, 0, 0, 0, 0, 0, 0, 0, 0, 0, 0, 0,\n",
      "        0, 0, 0, 0, 0, 0, 0, 0, 0, 0, 0, 0, 0, 0, 0, 0, 0, 0, 0, 0, 0, 0, 0, 0,\n",
      "        0, 0, 0, 0, 0, 0, 0, 0, 0, 0, 0, 0, 0, 0, 0, 0, 0, 0, 0, 0, 0, 0, 0, 0,\n",
      "        0, 0, 0, 0, 0, 0, 0, 0, 0, 0, 0, 0, 0, 2, 8, 5]), tensor([ 1,  9,  8,  9,  4,  4,  0,  1,  1,  8,  3,  8,  2,  3,  8,  7,  8,  7,\n",
      "         6,  7,  1,  9,  8,  3,  9,  7,  7,  5,  2,  0,  9,  5,  8,  2,  0,  3,\n",
      "         0,  1,  6,  8,  8,  9,  3,  8,  1,  0,  0,  2,  1,  8,  2,  7,  0,  1,\n",
      "         8,  8,  0,  2,  8,  1,  4,  4,  6,  1,  2,  4,  8,  5,  2,  5,  2,  5,\n",
      "         0,  9,  6,  6,  3,  5,  6,  6,  0,  9,  4,  0,  6,  2,  3,  0,  9,  1,\n",
      "         0,  7,  3,  0,  7,  2,  2,  4,  7,  7,  5,  5,  3,  0,  2,  3,  5,  5,\n",
      "         7,  5,  0,  0,  3,  9,  1,  7,  8,  4,  3,  3,  4,  6,  7,  3,  3,  0,\n",
      "         1,  7,  0,  9,  2,  3,  4,  5,  8,  9,  3,  0,  0,  9,  6,  6,  9,  7,\n",
      "         0,  7,  0,  5,  1,  8,  3,  7,  6,  8,  5,  7,  6, 10,  7,  0])), (tensor([0, 0, 0, 0, 0, 0, 0, 0, 0, 0, 0, 0, 0, 0, 0, 0, 0, 0, 0, 0, 0, 0, 0, 0,\n",
      "        0, 0, 0, 0, 0, 0, 0, 0, 0, 0, 0, 0, 0, 0, 0, 0, 0, 0, 0, 0, 0, 0, 0, 0,\n",
      "        0, 0, 0, 0, 0, 0, 0, 0, 0, 0, 0, 0, 0, 0, 0, 0, 0, 0, 0, 0, 0, 0, 0, 0,\n",
      "        0, 0, 0, 0, 0, 0, 0, 0, 0, 0, 0, 0, 0, 0, 0, 0, 0, 0, 0, 0, 0, 0, 0, 0,\n",
      "        0, 0, 0, 0, 0, 0, 0, 0, 0, 0, 0, 0, 0, 0, 0, 0, 0, 0, 0, 0, 0, 0, 0, 0,\n",
      "        0, 0, 0, 0, 0, 0, 0, 0, 0, 0, 0, 0, 0, 0, 0, 0, 0, 0, 0, 0, 0, 0, 0, 0,\n",
      "        0, 0, 0, 0, 0, 0, 0, 0, 0, 0, 0, 0, 5, 7, 1, 1]), tensor([ 4,  5,  6,  1,  8,  1,  7,  1,  8,  9,  8,  9,  3,  9,  6,  8,  8,  4,\n",
      "         9,  6,  0,  1,  3,  2,  6,  1,  8,  2,  8,  3,  5,  7,  0,  0,  1,  1,\n",
      "         5,  0,  7,  0,  9,  6,  2,  8,  6,  7,  7,  0,  6,  3,  0,  3,  0,  4,\n",
      "         0,  3,  2,  0,  0,  7,  6,  0,  2,  4,  8,  5,  1,  8,  1,  5,  2,  7,\n",
      "         2,  7,  0,  0,  9,  8,  7,  5,  1,  4,  3,  6,  6,  8,  6,  5,  5,  4,\n",
      "         7,  7,  9,  0,  2,  3,  1,  8,  3,  8,  1,  4,  1,  4,  7,  7,  1,  4,\n",
      "         1,  6,  5,  1,  9,  8,  9,  7,  7,  4,  7,  7,  7,  8,  6,  8,  1,  0,\n",
      "         9,  4,  3,  1,  1,  1,  8,  6,  9,  7,  2,  0,  6,  1,  6,  3,  6,  8,\n",
      "         0,  3,  6,  2,  3,  3,  8,  7,  1,  3,  6, 10,  1,  4,  2,  5])), (tensor([0, 0, 0, 0, 0, 0, 0, 0, 0, 0, 0, 0, 0, 0, 0, 0, 0, 0, 0, 0, 0, 0, 0, 0,\n",
      "        0, 0, 0, 0, 0, 0, 0, 0, 0, 0, 0, 0, 0, 0, 0, 0, 0, 0, 0, 0, 0, 0, 0, 0,\n",
      "        0, 0, 0, 0, 0, 0, 0, 0, 0, 0, 0, 0, 0, 0, 0, 0, 0, 0, 0, 0, 0, 0, 0, 0,\n",
      "        0, 0, 0, 0, 0, 0, 0, 0, 0, 0, 0, 0, 0, 0, 0, 0, 0, 0, 0, 0, 0, 0, 0, 0,\n",
      "        0, 0, 0, 0, 0, 0, 0, 0, 0, 0, 0, 0, 0, 0, 0, 0, 0, 0, 0, 0, 0, 0, 0, 0,\n",
      "        0, 0, 0, 0, 0, 0, 0, 0, 0, 0, 0, 0, 0, 0, 0, 0, 0, 0, 0, 0, 0, 0, 0, 0,\n",
      "        0, 0, 0, 0, 0, 0, 0, 0, 0, 0, 0, 1, 5, 9, 2, 9]), tensor([ 2,  6,  8,  8,  7,  3,  5,  7,  3,  8,  9,  9,  5,  3,  1,  7,  2,  7,\n",
      "         1,  7,  9,  4,  5,  0,  7,  5,  5,  9,  6,  7,  1,  1,  0,  1,  6,  6,\n",
      "         6,  8,  8,  8,  5,  6,  3,  0,  3,  6,  0,  8,  4,  4,  3,  1,  1,  6,\n",
      "         4,  6,  0,  2,  7,  3,  8,  5,  9,  6,  4,  5,  0,  5,  5,  7,  3,  1,\n",
      "         2,  2,  1,  5,  6,  8,  0,  6,  1,  8,  1,  1,  2,  2,  6,  4,  2,  9,\n",
      "         9,  2,  2,  2,  9,  7,  2,  9,  2,  5,  2,  3,  4,  4,  5,  2,  2,  6,\n",
      "         1,  3,  1,  9,  6,  9,  7,  2,  0,  1,  5,  3,  4,  9,  3,  1,  8,  3,\n",
      "         7,  5,  8,  8,  7,  0,  2,  6,  1,  9,  2,  7,  1,  7,  8,  5,  9,  0,\n",
      "         9,  7,  2,  3,  9,  6,  1,  7,  5,  3,  6, 10,  3,  9,  8,  0])), (tensor([0, 0, 0, 0, 0, 0, 0, 0, 0, 0, 0, 0, 0, 0, 0, 0, 0, 0, 0, 0, 0, 0, 0, 0,\n",
      "        0, 0, 0, 0, 0, 0, 0, 0, 0, 0, 0, 0, 0, 0, 0, 0, 0, 0, 0, 0, 0, 0, 0, 0,\n",
      "        0, 0, 0, 0, 0, 0, 0, 0, 0, 0, 0, 0, 0, 0, 0, 0, 0, 0, 0, 0, 0, 0, 0, 0,\n",
      "        0, 0, 0, 0, 0, 0, 0, 0, 0, 0, 0, 0, 0, 0, 0, 0, 0, 0, 0, 0, 0, 0, 0, 0,\n",
      "        0, 0, 0, 0, 0, 0, 0, 0, 0, 0, 0, 0, 0, 0, 0, 0, 0, 0, 0, 0, 0, 0, 0, 0,\n",
      "        0, 0, 0, 0, 0, 0, 0, 0, 0, 0, 0, 0, 0, 0, 0, 0, 0, 0, 0, 0, 0, 0, 0, 0,\n",
      "        0, 0, 0, 0, 0, 0, 0, 0, 0, 0, 0, 1, 0, 9, 6, 0]), tensor([ 4,  3,  3,  0,  0,  9,  7,  0,  8,  6,  4,  2,  3,  8,  9,  2,  3,  9,\n",
      "         1,  7,  7,  3,  3,  9,  7,  0,  2,  8,  1,  7,  1,  2,  7,  5,  6,  1,\n",
      "         7,  4,  2,  6,  1,  9,  9,  9,  9,  4,  4,  6,  6,  6,  9,  6,  3,  4,\n",
      "         0,  2,  5,  8,  1,  5,  8,  0,  9,  3,  6,  5,  3,  9,  1,  4,  7,  7,\n",
      "         2,  1,  2,  6,  2,  7,  6,  6,  6,  8,  3,  7,  7,  4,  7,  7,  1,  7,\n",
      "         2,  0,  3,  2,  9,  4,  0,  9,  2,  6,  6,  1,  8,  6,  5,  1,  4,  3,\n",
      "         9,  4,  9,  8,  7,  3,  3,  3,  3,  9,  2,  4,  7,  2,  4,  0,  0,  4,\n",
      "         4,  9,  2,  2,  1,  9,  1,  8,  9,  3,  0,  0,  3,  4,  9,  9,  7,  8,\n",
      "         7,  8,  9,  7,  1,  1,  7,  0,  8,  1,  6, 10,  2,  7,  3,  7])), (tensor([0, 0, 0, 0, 0, 0, 0, 0, 0, 0, 0, 0, 0, 0, 0, 0, 0, 0, 0, 0, 0, 0, 0, 0,\n",
      "        0, 0, 0, 0, 0, 0, 0, 0, 0, 0, 0, 0, 0, 0, 0, 0, 0, 0, 0, 0, 0, 0, 0, 0,\n",
      "        0, 0, 0, 0, 0, 0, 0, 0, 0, 0, 0, 0, 0, 0, 0, 0, 0, 0, 0, 0, 0, 0, 0, 0,\n",
      "        0, 0, 0, 0, 0, 0, 0, 0, 0, 0, 0, 0, 0, 0, 0, 0, 0, 0, 0, 0, 0, 0, 0, 0,\n",
      "        0, 0, 0, 0, 0, 0, 0, 0, 0, 0, 0, 0, 0, 0, 0, 0, 0, 0, 0, 0, 0, 0, 0, 0,\n",
      "        0, 0, 0, 0, 0, 0, 0, 0, 0, 0, 0, 0, 0, 0, 0, 0, 0, 0, 0, 0, 0, 0, 0, 0,\n",
      "        0, 0, 0, 0, 0, 0, 0, 0, 0, 0, 0, 0, 0, 4, 0, 0]), tensor([ 9,  5,  6,  7,  5,  9,  5,  8,  3,  6,  0,  9,  6,  1,  5,  8,  7,  1,\n",
      "         5,  1,  2,  9,  9,  1,  3,  8,  2,  2,  2,  8,  6,  5,  7,  8,  5,  7,\n",
      "         9,  5,  4,  9,  3,  6,  1,  6,  1,  7,  6,  5,  4,  4,  8,  0,  4,  5,\n",
      "         3,  2,  2,  2,  0,  0,  7,  8,  2,  5,  8,  1,  8,  4,  0,  0,  8,  4,\n",
      "         8,  4,  3,  6,  4,  1,  5,  5,  9,  1,  2,  2,  9,  4,  5,  4,  2,  7,\n",
      "         5,  3,  8,  4,  8,  0,  3,  5,  5,  8,  3,  7,  4,  5,  1,  8,  0,  2,\n",
      "         2,  6,  7,  5,  9,  0,  0,  0,  6,  1,  3,  9,  9,  5,  6,  0,  1,  4,\n",
      "         5,  5,  9,  5,  2,  0,  6,  1,  2,  7,  2,  1,  1,  1,  9,  2,  9,  1,\n",
      "         8,  1,  0,  5,  0,  3,  2,  4,  9,  1,  0,  0,  8, 10,  9,  9])), (tensor([0, 0, 0, 0, 0, 0, 0, 0, 0, 0, 0, 0, 0, 0, 0, 0, 0, 0, 0, 0, 0, 0, 0, 0,\n",
      "        0, 0, 0, 0, 0, 0, 0, 0, 0, 0, 0, 0, 0, 0, 0, 0, 0, 0, 0, 0, 0, 0, 0, 0,\n",
      "        0, 0, 0, 0, 0, 0, 0, 0, 0, 0, 0, 0, 0, 0, 0, 0, 0, 0, 0, 0, 0, 0, 0, 0,\n",
      "        0, 0, 0, 0, 0, 0, 0, 0, 0, 0, 0, 0, 0, 0, 0, 0, 0, 0, 0, 0, 0, 0, 0, 0,\n",
      "        0, 0, 0, 0, 0, 0, 0, 0, 0, 0, 0, 0, 0, 0, 0, 0, 0, 0, 0, 0, 0, 0, 0, 0,\n",
      "        0, 0, 0, 0, 0, 0, 0, 0, 0, 0, 0, 0, 0, 0, 0, 0, 0, 0, 0, 0, 0, 0, 0, 0,\n",
      "        0, 0, 0, 0, 0, 0, 0, 0, 0, 0, 0, 1, 3, 8, 7, 8]), tensor([ 4,  6,  9,  7,  4,  0,  4,  5,  2,  0,  4,  9,  2,  0,  4,  1,  1,  7,\n",
      "         3,  0,  2,  8,  2,  0,  3,  1,  0,  8,  5,  1,  2,  5,  6,  0,  6,  4,\n",
      "         4,  4,  7,  5,  0,  6,  7,  4,  3,  4,  5,  9,  6,  1,  1,  2,  2,  8,\n",
      "         5,  6,  9,  3,  8,  5,  3,  4,  1,  9,  2,  8,  3,  4,  3,  3,  0,  7,\n",
      "         1,  4,  6,  2,  8,  4,  1,  5,  8,  7,  1,  8,  8,  5,  0,  9,  7,  3,\n",
      "         9,  4,  2,  1,  2,  5,  0,  9,  3,  9,  0,  6,  8,  3,  6,  3,  0,  8,\n",
      "         2,  7,  9,  1,  5,  8,  9,  2,  3,  1,  7,  1,  5,  4,  7,  2,  5,  1,\n",
      "         7,  2,  6,  9,  0,  5,  8,  0,  9,  0,  9,  6,  7,  7,  8,  8,  9,  7,\n",
      "         6,  8,  7,  1,  9,  9,  0,  8,  8,  6,  4, 10,  3,  4,  6,  7])), (tensor([0, 0, 0, 0, 0, 0, 0, 0, 0, 0, 0, 0, 0, 0, 0, 0, 0, 0, 0, 0, 0, 0, 0, 0,\n",
      "        0, 0, 0, 0, 0, 0, 0, 0, 0, 0, 0, 0, 0, 0, 0, 0, 0, 0, 0, 0, 0, 0, 0, 0,\n",
      "        0, 0, 0, 0, 0, 0, 0, 0, 0, 0, 0, 0, 0, 0, 0, 0, 0, 0, 0, 0, 0, 0, 0, 0,\n",
      "        0, 0, 0, 0, 0, 0, 0, 0, 0, 0, 0, 0, 0, 0, 0, 0, 0, 0, 0, 0, 0, 0, 0, 0,\n",
      "        0, 0, 0, 0, 0, 0, 0, 0, 0, 0, 0, 0, 0, 0, 0, 0, 0, 0, 0, 0, 0, 0, 0, 0,\n",
      "        0, 0, 0, 0, 0, 0, 0, 0, 0, 0, 0, 0, 0, 0, 0, 0, 0, 0, 0, 0, 0, 0, 0, 0,\n",
      "        0, 0, 0, 0, 0, 0, 0, 0, 0, 0, 0, 0, 9, 5, 2, 3]), tensor([ 7,  9,  2,  5,  6,  4,  7,  0,  2,  4,  7,  4,  3,  3,  0,  4,  0,  5,\n",
      "         3,  4,  7,  9,  8,  1,  8,  8,  5,  4,  2,  0,  9,  8,  5,  8,  5,  2,\n",
      "         3,  5,  1,  9,  9,  7,  4,  2,  4,  6,  8,  0,  1,  2,  2,  8,  4,  3,\n",
      "         8,  5,  4,  5,  4,  2,  8,  8,  3,  3,  1,  8,  4,  6,  6,  5,  9,  5,\n",
      "         3,  7,  4,  1,  0,  8,  1,  9,  7,  3,  7,  4,  3,  7,  3,  2,  4,  9,\n",
      "         9,  6,  3,  0,  1,  8,  6,  1,  0,  1,  8,  3,  4,  5,  3,  9,  0,  5,\n",
      "         4,  6,  1,  8,  4,  3,  2,  8,  3,  9,  8,  9,  7,  1,  1,  0,  8,  1,\n",
      "         5,  2,  8,  7,  8,  8,  7,  3,  6,  9,  1,  0,  6,  2,  5,  8,  5,  8,\n",
      "         7,  7,  1,  4,  9,  5,  1,  5,  7,  7,  6, 10,  2,  3,  7,  8])), (tensor([0, 0, 0, 0, 0, 0, 0, 0, 0, 0, 0, 0, 0, 0, 0, 0, 0, 0, 0, 0, 0, 0, 0, 0,\n",
      "        0, 0, 0, 0, 0, 0, 0, 0, 0, 0, 0, 0, 0, 0, 0, 0, 0, 0, 0, 0, 0, 0, 0, 0,\n",
      "        0, 0, 0, 0, 0, 0, 0, 0, 0, 0, 0, 0, 0, 0, 0, 0, 0, 0, 0, 0, 0, 0, 0, 0,\n",
      "        0, 0, 0, 0, 0, 0, 0, 0, 0, 0, 0, 0, 0, 0, 0, 0, 0, 0, 0, 0, 0, 0, 0, 0,\n",
      "        0, 0, 0, 0, 0, 0, 0, 0, 0, 0, 0, 0, 0, 0, 0, 0, 0, 0, 0, 0, 0, 0, 0, 0,\n",
      "        0, 0, 0, 0, 0, 0, 0, 0, 0, 0, 0, 0, 0, 0, 0, 0, 0, 0, 0, 0, 0, 0, 0, 0,\n",
      "        0, 0, 0, 0, 0, 0, 0, 0, 0, 0, 0, 0, 9, 0, 2, 9]), tensor([ 5,  9,  9,  2,  9,  9,  2,  2,  2,  2,  8,  3,  3,  1,  2,  9,  1,  6,\n",
      "         9,  5,  3,  8,  9,  6,  2,  5,  6,  8,  9,  0,  0,  2,  1,  2,  5,  8,\n",
      "         1,  9,  8,  4,  9,  0,  9,  3,  6,  0,  6,  1,  5,  5,  8,  5,  9,  3,\n",
      "         5,  2,  9,  2,  9,  0,  0,  6,  7,  4,  8,  2,  1,  3,  6,  2,  2,  4,\n",
      "         8,  9,  1,  6,  1,  7,  2,  5,  3,  1,  4,  4,  8,  4,  6,  4,  3,  9,\n",
      "         2,  2,  5,  5,  9,  5,  2,  6,  0,  1,  9,  7,  7,  5,  1,  7,  5,  4,\n",
      "         3,  9,  7,  0,  6,  2,  6,  4,  9,  8,  2,  5,  1,  4,  9,  5,  6,  6,\n",
      "         6,  3,  7,  0,  1,  3,  8,  5,  9,  3,  6,  1,  1,  1,  9,  2,  1,  3,\n",
      "         7,  7,  9,  3,  7,  7,  1,  9,  2,  9,  6, 10,  2,  2,  5,  4])), (tensor([0, 0, 0, 0, 0, 0, 0, 0, 0, 0, 0, 0, 0, 0, 0, 0, 0, 0, 0, 0, 0, 0, 0, 0,\n",
      "        0, 0, 0, 0, 0, 0, 0, 0, 0, 0, 0, 0, 0, 0, 0, 0, 0, 0, 0, 0, 0, 0, 0, 0,\n",
      "        0, 0, 0, 0, 0, 0, 0, 0, 0, 0, 0, 0, 0, 0, 0, 0, 0, 0, 0, 0, 0, 0, 0, 0,\n",
      "        0, 0, 0, 0, 0, 0, 0, 0, 0, 0, 0, 0, 0, 0, 0, 0, 0, 0, 0, 0, 0, 0, 0, 0,\n",
      "        0, 0, 0, 0, 0, 0, 0, 0, 0, 0, 0, 0, 0, 0, 0, 0, 0, 0, 0, 0, 0, 0, 0, 0,\n",
      "        0, 0, 0, 0, 0, 0, 0, 0, 0, 0, 0, 0, 0, 0, 0, 0, 0, 0, 0, 0, 0, 0, 0, 0,\n",
      "        0, 0, 0, 0, 0, 0, 0, 0, 0, 0, 0, 0, 3, 2, 0, 8]), tensor([ 4,  9,  9,  3,  1,  5,  5,  7,  3,  6,  9,  4,  5,  5,  2,  9,  4,  5,\n",
      "         8,  4,  3,  7,  1,  0,  0,  9,  5,  4,  9,  2,  0,  8,  9,  3,  1,  4,\n",
      "         5,  4,  1,  9,  8,  0,  6,  2,  1,  0,  1,  7,  7,  1,  1,  7,  1,  7,\n",
      "         3,  3,  3,  8,  7,  7,  5,  3,  2,  9,  0,  5,  1,  9,  2,  2,  7,  0,\n",
      "         6,  1,  3,  5,  9,  3,  1,  9,  8,  9,  4,  5,  9,  5,  8,  8,  7,  6,\n",
      "         2,  1,  9,  4,  7,  0,  6,  2,  0,  1,  7,  2,  0,  6,  1,  1,  5,  8,\n",
      "         3,  7,  3,  3,  4,  4,  0,  1,  7,  4,  7,  6,  8,  4,  8,  1,  3,  2,\n",
      "         7,  9,  0,  5,  4,  5,  1,  9,  3,  3,  5,  9,  9,  6,  4,  7,  6,  4,\n",
      "         1,  5,  3,  0,  5,  9,  4,  7,  5,  4,  5,  6, 10,  8,  0,  0])), (tensor([0, 0, 0, 0, 0, 0, 0, 0, 0, 0, 0, 0, 0, 0, 0, 0, 0, 0, 0, 0, 0, 0, 0, 0,\n",
      "        0, 0, 0, 0, 0, 0, 0, 0, 0, 0, 0, 0, 0, 0, 0, 0, 0, 0, 0, 0, 0, 0, 0, 0,\n",
      "        0, 0, 0, 0, 0, 0, 0, 0, 0, 0, 0, 0, 0, 0, 0, 0, 0, 0, 0, 0, 0, 0, 0, 0,\n",
      "        0, 0, 0, 0, 0, 0, 0, 0, 0, 0, 0, 0, 0, 0, 0, 0, 0, 0, 0, 0, 0, 0, 0, 0,\n",
      "        0, 0, 0, 0, 0, 0, 0, 0, 0, 0, 0, 0, 0, 0, 0, 0, 0, 0, 0, 0, 0, 0, 0, 0,\n",
      "        0, 0, 0, 0, 0, 0, 0, 0, 0, 0, 0, 0, 0, 0, 0, 0, 0, 0, 0, 0, 0, 0, 0, 0,\n",
      "        0, 0, 0, 0, 0, 0, 0, 0, 0, 0, 0, 0, 3, 8, 2, 7]), tensor([ 9,  1,  8,  8,  5,  7,  8,  9,  5,  7,  7,  9,  8,  5,  9,  7,  8,  5,\n",
      "         7,  3,  6,  4,  3,  2,  2,  8,  8,  4,  2,  3,  1,  7,  7,  0,  1,  0,\n",
      "         7,  1,  7,  6,  9,  2,  6,  9,  1,  6,  4,  1,  4,  2,  9,  0,  9,  3,\n",
      "         1,  3,  3,  9,  9,  2,  0,  5,  3,  7,  5,  7,  3,  4,  8,  0,  5,  0,\n",
      "         1,  5,  4,  9,  3,  6,  1,  8,  1,  1,  6,  6,  5,  2,  3,  1,  8,  9,\n",
      "         6,  7,  6,  5,  0,  0,  6,  1,  7,  2,  1,  4,  4,  4,  6,  3,  4,  1,\n",
      "         3,  1,  8,  5,  8,  0,  5,  4,  0,  3,  4,  2,  5,  7,  2,  7,  4,  0,\n",
      "         6,  6,  2,  0,  4,  3,  1,  5,  1,  6,  7,  3,  6,  2,  1,  9,  8,  9,\n",
      "         0,  3,  6,  2,  3,  0,  9,  6,  7,  2,  9,  6, 10,  9,  5,  5])), (tensor([0, 0, 0, 0, 0, 0, 0, 0, 0, 0, 0, 0, 0, 0, 0, 0, 0, 0, 0, 0, 0, 0, 0, 0,\n",
      "        0, 0, 0, 0, 0, 0, 0, 0, 0, 0, 0, 0, 0, 0, 0, 0, 0, 0, 0, 0, 0, 0, 0, 0,\n",
      "        0, 0, 0, 0, 0, 0, 0, 0, 0, 0, 0, 0, 0, 0, 0, 0, 0, 0, 0, 0, 0, 0, 0, 0,\n",
      "        0, 0, 0, 0, 0, 0, 0, 0, 0, 0, 0, 0, 0, 0, 0, 0, 0, 0, 0, 0, 0, 0, 0, 0,\n",
      "        0, 0, 0, 0, 0, 0, 0, 0, 0, 0, 0, 0, 0, 0, 0, 0, 0, 0, 0, 0, 0, 0, 0, 0,\n",
      "        0, 0, 0, 0, 0, 0, 0, 0, 0, 0, 0, 0, 0, 0, 0, 0, 0, 0, 0, 0, 0, 0, 0, 0,\n",
      "        0, 0, 0, 0, 0, 0, 0, 0, 0, 0, 0, 0, 6, 6, 3, 6]), tensor([ 5,  3,  8,  8,  8,  7,  6,  1,  3,  6,  5,  0,  6,  7,  2,  0,  9,  9,\n",
      "         8,  0,  8,  5,  7,  8,  0,  3,  5,  4,  0,  9,  6,  7,  1,  1,  2,  2,\n",
      "         3,  6,  3,  7,  0,  9,  5,  0,  4,  3,  6,  0,  1,  7,  9,  4,  7,  2,\n",
      "         4,  2,  7,  6,  5,  0,  6,  0,  6,  4,  4,  0,  3,  3,  1,  2,  9,  8,\n",
      "         4,  2,  2,  4,  5,  7,  4,  9,  7,  5,  6,  5,  1,  4,  1,  2,  0,  1,\n",
      "         7,  8,  4,  0,  6,  0,  2,  4,  1,  1,  9,  0,  5,  6,  6,  9,  8,  7,\n",
      "         0,  6,  7,  4,  1,  3,  3,  5,  6,  0,  5,  1,  6,  6,  3,  8,  7,  8,\n",
      "         6,  3,  5,  2,  1,  0,  8,  0,  2,  5,  7,  1,  6,  2,  9,  5,  0,  8,\n",
      "         7,  8,  3,  1,  1,  7,  4,  3,  4,  8,  8, 10,  1,  6,  5,  7])), (tensor([0, 0, 0, 0, 0, 0, 0, 0, 0, 0, 0, 0, 0, 0, 0, 0, 0, 0, 0, 0, 0, 0, 0, 0,\n",
      "        0, 0, 0, 0, 0, 0, 0, 0, 0, 0, 0, 0, 0, 0, 0, 0, 0, 0, 0, 0, 0, 0, 0, 0,\n",
      "        0, 0, 0, 0, 0, 0, 0, 0, 0, 0, 0, 0, 0, 0, 0, 0, 0, 0, 0, 0, 0, 0, 0, 0,\n",
      "        0, 0, 0, 0, 0, 0, 0, 0, 0, 0, 0, 0, 0, 0, 0, 0, 0, 0, 0, 0, 0, 0, 0, 0,\n",
      "        0, 0, 0, 0, 0, 0, 0, 0, 0, 0, 0, 0, 0, 0, 0, 0, 0, 0, 0, 0, 0, 0, 0, 0,\n",
      "        0, 0, 0, 0, 0, 0, 0, 0, 0, 0, 0, 0, 0, 0, 0, 0, 0, 0, 0, 0, 0, 0, 0, 0,\n",
      "        0, 0, 0, 0, 0, 0, 0, 0, 0, 0, 0, 0, 9, 4, 0, 4]), tensor([ 0,  4,  6,  7,  8,  6,  3,  0,  8,  7,  9,  8,  5,  1,  5,  5,  6,  5,\n",
      "         5,  4,  2,  2,  5,  7,  1,  2,  6,  1,  9,  2,  9,  1,  9,  2,  1,  8,\n",
      "         3,  5,  7,  5,  7,  0,  0,  7,  5,  9,  7,  9,  7,  8,  7,  4,  3,  6,\n",
      "         3,  5,  0,  1,  1,  2,  7,  5,  4,  1,  0,  3,  7,  9,  0,  4,  4,  2,\n",
      "         0,  2,  0,  4,  6,  2,  4,  2,  6,  4,  4,  0,  5,  2,  5,  5,  9,  1,\n",
      "         4,  6,  5,  8,  0,  5,  8,  3,  3,  4,  5,  0,  5,  9,  6,  7,  0,  7,\n",
      "         5,  5,  3,  7,  6,  6,  7,  2,  2,  7,  9,  1,  9,  7,  8,  8,  8,  4,\n",
      "         5,  5,  6,  1,  3,  4,  6,  4,  6,  0,  0,  0,  1,  5,  6,  8,  0,  5,\n",
      "         1,  8,  8,  9,  4,  9,  1,  1,  4,  8,  8, 10,  2,  3,  4,  9])), (tensor([0, 0, 0, 0, 0, 0, 0, 0, 0, 0, 0, 0, 0, 0, 0, 0, 0, 0, 0, 0, 0, 0, 0, 0,\n",
      "        0, 0, 0, 0, 0, 0, 0, 0, 0, 0, 0, 0, 0, 0, 0, 0, 0, 0, 0, 0, 0, 0, 0, 0,\n",
      "        0, 0, 0, 0, 0, 0, 0, 0, 0, 0, 0, 0, 0, 0, 0, 0, 0, 0, 0, 0, 0, 0, 0, 0,\n",
      "        0, 0, 0, 0, 0, 0, 0, 0, 0, 0, 0, 0, 0, 0, 0, 0, 0, 0, 0, 0, 0, 0, 0, 0,\n",
      "        0, 0, 0, 0, 0, 0, 0, 0, 0, 0, 0, 0, 0, 0, 0, 0, 0, 0, 0, 0, 0, 0, 0, 0,\n",
      "        0, 0, 0, 0, 0, 0, 0, 0, 0, 0, 0, 0, 0, 0, 0, 0, 0, 0, 0, 0, 0, 0, 0, 0,\n",
      "        0, 0, 0, 0, 0, 0, 0, 0, 0, 0, 0, 0, 5, 4, 8, 9]), tensor([ 4,  8,  7,  1,  8,  0,  0,  1,  1,  0,  8,  1,  1,  6,  0,  3,  2,  8,\n",
      "         6,  2,  6,  1,  4,  5,  7,  8,  2,  9,  5,  5,  5,  4,  6,  8,  6,  8,\n",
      "         5,  9,  6,  5,  6,  5,  7,  5,  0,  5,  3,  6,  0,  8,  9,  4,  4,  1,\n",
      "         8,  6,  8,  9,  7,  9,  6,  5,  2,  1,  2,  7,  2,  4,  9,  6,  6,  8,\n",
      "         3,  2,  9,  9,  8,  9,  0,  5,  5,  7,  4,  9,  8,  6,  1,  7,  2,  5,\n",
      "         8,  2,  7,  6,  3,  1,  6,  2,  4,  4,  2,  2,  6,  6,  8,  9,  9,  7,\n",
      "         7,  5,  8,  9,  5,  3,  0,  7,  8,  4,  9,  3,  9,  7,  9,  2,  4,  1,\n",
      "         2,  2,  7,  1,  3,  9,  8,  2,  5,  6,  2,  7,  9,  9,  6,  2,  0,  0,\n",
      "         0,  9,  8,  7,  2,  0,  6,  4,  5,  1,  2, 10,  1,  3,  6,  8])), (tensor([0, 0, 0, 0, 0, 0, 0, 0, 0, 0, 0, 0, 0, 0, 0, 0, 0, 0, 0, 0, 0, 0, 0, 0,\n",
      "        0, 0, 0, 0, 0, 0, 0, 0, 0, 0, 0, 0, 0, 0, 0, 0, 0, 0, 0, 0, 0, 0, 0, 0,\n",
      "        0, 0, 0, 0, 0, 0, 0, 0, 0, 0, 0, 0, 0, 0, 0, 0, 0, 0, 0, 0, 0, 0, 0, 0,\n",
      "        0, 0, 0, 0, 0, 0, 0, 0, 0, 0, 0, 0, 0, 0, 0, 0, 0, 0, 0, 0, 0, 0, 0, 0,\n",
      "        0, 0, 0, 0, 0, 0, 0, 0, 0, 0, 0, 0, 0, 0, 0, 0, 0, 0, 0, 0, 0, 0, 0, 0,\n",
      "        0, 0, 0, 0, 0, 0, 0, 0, 0, 0, 0, 0, 0, 0, 0, 0, 0, 0, 0, 0, 0, 0, 0, 0,\n",
      "        0, 0, 0, 0, 0, 0, 0, 0, 0, 0, 0, 0, 2, 3, 7, 6]), tensor([ 6,  2,  3,  2,  2,  0,  8,  9,  1,  7,  2,  3,  4,  6,  6,  6,  3,  3,\n",
      "         8,  3,  3,  8,  9,  0,  9,  5,  8,  7,  4,  7,  2,  6,  6,  9,  4,  1,\n",
      "         1,  9,  4,  4,  8,  8,  2,  1,  3,  0,  7,  3,  3,  2,  4,  6,  1,  8,\n",
      "         8,  7,  4,  2,  5,  7,  2,  2,  7,  6,  7,  8,  9,  0,  8,  7,  0,  4,\n",
      "         1,  0,  9,  4,  9,  6,  4,  4,  4,  3,  0,  6,  8,  5,  1,  6,  0,  3,\n",
      "         2,  4,  2,  9,  8,  4,  2,  0,  4,  0,  6,  9,  3,  4,  6,  3,  7,  2,\n",
      "         3,  5,  2,  4,  1,  1,  1,  0,  0,  2,  8,  6,  6,  5,  9,  1,  4,  5,\n",
      "         4,  0,  1,  6,  7,  0,  4,  0,  4,  0,  8,  5,  6,  8,  8,  2,  7,  4,\n",
      "         9,  9,  9,  1,  6,  9,  7,  7,  7,  6,  6,  4, 10,  5,  9,  2])), (tensor([0, 0, 0, 0, 0, 0, 0, 0, 0, 0, 0, 0, 0, 0, 0, 0, 0, 0, 0, 0, 0, 0, 0, 0,\n",
      "        0, 0, 0, 0, 0, 0, 0, 0, 0, 0, 0, 0, 0, 0, 0, 0, 0, 0, 0, 0, 0, 0, 0, 0,\n",
      "        0, 0, 0, 0, 0, 0, 0, 0, 0, 0, 0, 0, 0, 0, 0, 0, 0, 0, 0, 0, 0, 0, 0, 0,\n",
      "        0, 0, 0, 0, 0, 0, 0, 0, 0, 0, 0, 0, 0, 0, 0, 0, 0, 0, 0, 0, 0, 0, 0, 0,\n",
      "        0, 0, 0, 0, 0, 0, 0, 0, 0, 0, 0, 0, 0, 0, 0, 0, 0, 0, 0, 0, 0, 0, 0, 0,\n",
      "        0, 0, 0, 0, 0, 0, 0, 0, 0, 0, 0, 0, 0, 0, 0, 0, 0, 0, 0, 0, 0, 0, 0, 0,\n",
      "        0, 0, 0, 0, 0, 0, 0, 0, 0, 0, 0, 1, 5, 7, 3, 8]), tensor([ 8,  3,  7,  9,  7,  9,  5,  4,  7,  5,  5,  5,  0,  3,  9,  7,  3,  7,\n",
      "         4,  7,  0,  7,  5,  6,  2,  0,  6,  0,  4,  8,  4,  1,  6,  1,  7,  7,\n",
      "         2,  5,  7,  0,  1,  6,  2,  9,  3,  9,  3,  3,  4,  0,  7,  1,  9,  4,\n",
      "         2,  2,  1,  8,  2,  8,  2,  1,  5,  0,  2,  1,  9,  6,  0,  3,  0,  3,\n",
      "         2,  8,  9,  1,  1,  1,  2,  2,  2,  6,  2,  2,  1,  9,  8,  9,  2,  5,\n",
      "         8,  7,  4,  8,  7,  1,  6,  9,  1,  2,  6,  4,  7,  8,  1,  8,  8,  2,\n",
      "         1,  4,  2,  0,  9,  5,  1,  4,  9,  5,  4,  0,  9,  4,  9,  0,  5,  8,\n",
      "         7,  2,  7,  6,  0,  5,  4,  1,  6,  9,  3,  5,  3,  7,  1,  0,  5,  0,\n",
      "         3,  8,  9,  5,  8,  1,  3,  3,  2,  4,  8, 10,  3,  9,  3,  2])), (tensor([0, 0, 0, 0, 0, 0, 0, 0, 0, 0, 0, 0, 0, 0, 0, 0, 0, 0, 0, 0, 0, 0, 0, 0,\n",
      "        0, 0, 0, 0, 0, 0, 0, 0, 0, 0, 0, 0, 0, 0, 0, 0, 0, 0, 0, 0, 0, 0, 0, 0,\n",
      "        0, 0, 0, 0, 0, 0, 0, 0, 0, 0, 0, 0, 0, 0, 0, 0, 0, 0, 0, 0, 0, 0, 0, 0,\n",
      "        0, 0, 0, 0, 0, 0, 0, 0, 0, 0, 0, 0, 0, 0, 0, 0, 0, 0, 0, 0, 0, 0, 0, 0,\n",
      "        0, 0, 0, 0, 0, 0, 0, 0, 0, 0, 0, 0, 0, 0, 0, 0, 0, 0, 0, 0, 0, 0, 0, 0,\n",
      "        0, 0, 0, 0, 0, 0, 0, 0, 0, 0, 0, 0, 0, 0, 0, 0, 0, 0, 0, 0, 0, 0, 0, 0,\n",
      "        0, 0, 0, 0, 0, 0, 0, 0, 0, 0, 0, 1, 5, 2, 3, 7]), tensor([ 2,  8,  1,  6,  9,  7,  8,  7,  3,  1,  9,  2,  2,  3,  1,  0,  7,  7,\n",
      "         0,  8,  8,  8,  2,  3,  1,  3,  0,  2,  3,  4,  8,  9,  6,  9,  8,  1,\n",
      "         4,  8,  3,  3,  0,  0,  6,  6,  6,  4,  0,  2,  1,  9,  8,  5,  4,  8,\n",
      "         6,  8,  8,  2,  8,  9,  0,  9,  2,  7,  5,  9,  5,  7,  6,  2,  8,  4,\n",
      "         8,  7,  2,  0,  7,  3,  1,  1,  4,  3,  9,  6,  5,  0,  5,  5,  2,  1,\n",
      "         7,  5,  3,  8,  1,  7,  2,  9,  2,  8,  8,  4,  5,  7,  2,  9,  1,  0,\n",
      "         2,  1,  9,  0,  1,  3,  3,  9,  4,  9,  6,  6,  5,  0,  6,  9,  0,  4,\n",
      "         8,  7,  0,  6,  0,  2,  6,  4,  3,  7,  5,  4,  4,  4,  5,  8,  0,  8,\n",
      "         8,  0,  8,  2,  5,  1,  8,  8,  3,  5,  2, 10,  3,  8,  0,  5])), (tensor([0, 0, 0, 0, 0, 0, 0, 0, 0, 0, 0, 0, 0, 0, 0, 0, 0, 0, 0, 0, 0, 0, 0, 0,\n",
      "        0, 0, 0, 0, 0, 0, 0, 0, 0, 0, 0, 0, 0, 0, 0, 0, 0, 0, 0, 0, 0, 0, 0, 0,\n",
      "        0, 0, 0, 0, 0, 0, 0, 0, 0, 0, 0, 0, 0, 0, 0, 0, 0, 0, 0, 0, 0, 0, 0, 0,\n",
      "        0, 0, 0, 0, 0, 0, 0, 0, 0, 0, 0, 0, 0, 0, 0, 0, 0, 0, 0, 0, 0, 0, 0, 0,\n",
      "        0, 0, 0, 0, 0, 0, 0, 0, 0, 0, 0, 0, 0, 0, 0, 0, 0, 0, 0, 0, 0, 0, 0, 0,\n",
      "        0, 0, 0, 0, 0, 0, 0, 0, 0, 0, 0, 0, 0, 0, 0, 0, 0, 0, 0, 0, 0, 0, 0, 0,\n",
      "        0, 0, 0, 0, 0, 0, 0, 0, 0, 0, 0, 1, 5, 5, 4, 2]), tensor([ 5,  0,  2,  3,  1,  6,  3,  0,  3,  9,  8,  1,  5,  9,  5,  2,  7,  1,\n",
      "         7,  4,  0,  5,  9,  5,  8,  5,  3,  4,  3,  9,  1,  5,  2,  1,  0,  7,\n",
      "         5,  7,  8,  7,  2,  0,  9,  6,  0,  2,  5,  3,  4,  8,  1,  8,  3,  5,\n",
      "         3,  7,  1,  5,  0,  9,  1,  2,  2,  9,  7,  0,  1,  4,  7,  9,  2,  5,\n",
      "         7,  7,  5,  5,  1,  3,  4,  4,  3,  3,  2,  8,  3,  0,  2,  5,  5,  7,\n",
      "         4,  3,  2,  0,  1,  3,  6,  5,  4,  5,  3,  6,  3,  1,  5,  3,  4,  3,\n",
      "         8,  5,  7,  7,  7,  4,  3,  1,  0,  6,  3,  0,  6,  0,  0,  3,  6,  7,\n",
      "         3,  2,  7,  5,  6,  3,  5,  8,  5,  3,  2,  8,  6,  6,  4,  4,  8,  5,\n",
      "         0,  4,  4,  5,  8,  8,  3,  8,  0,  1,  6, 10,  3,  8,  8,  1])), (tensor([0, 0, 0, 0, 0, 0, 0, 0, 0, 0, 0, 0, 0, 0, 0, 0, 0, 0, 0, 0, 0, 0, 0, 0,\n",
      "        0, 0, 0, 0, 0, 0, 0, 0, 0, 0, 0, 0, 0, 0, 0, 0, 0, 0, 0, 0, 0, 0, 0, 0,\n",
      "        0, 0, 0, 0, 0, 0, 0, 0, 0, 0, 0, 0, 0, 0, 0, 0, 0, 0, 0, 0, 0, 0, 0, 0,\n",
      "        0, 0, 0, 0, 0, 0, 0, 0, 0, 0, 0, 0, 0, 0, 0, 0, 0, 0, 0, 0, 0, 0, 0, 0,\n",
      "        0, 0, 0, 0, 0, 0, 0, 0, 0, 0, 0, 0, 0, 0, 0, 0, 0, 0, 0, 0, 0, 0, 0, 0,\n",
      "        0, 0, 0, 0, 0, 0, 0, 0, 0, 0, 0, 0, 0, 0, 0, 0, 0, 0, 0, 0, 0, 0, 0, 0,\n",
      "        0, 0, 0, 0, 0, 0, 0, 0, 0, 0, 0, 0, 4, 3, 7, 0]), tensor([ 4,  1,  8,  3,  3,  5,  3,  1,  7,  1,  2,  3,  9,  1,  2,  8,  5,  4,\n",
      "         3,  3,  5,  3,  6,  1,  6,  2,  8,  2,  6,  7,  7,  9,  1,  4,  8,  7,\n",
      "         1,  7,  0,  2,  4,  6,  8,  3,  5,  0,  7,  6,  0,  3,  1,  4,  0,  0,\n",
      "         1,  4,  2,  3,  9,  3,  7,  2,  3,  1,  1,  7,  7,  7,  5,  7,  8,  5,\n",
      "         2,  5,  9,  5,  9,  4,  1,  8,  7,  2,  2,  2,  3,  6,  9,  8,  1,  1,\n",
      "         1,  0,  0,  1,  6,  6,  2,  8,  4,  6,  8,  4,  0,  5,  9,  4,  0,  6,\n",
      "         4,  8,  6,  0,  9,  8,  3,  5,  1,  3,  9,  8,  0,  5,  9,  2,  2,  4,\n",
      "         0,  4,  2,  9,  4,  6,  5,  3,  7,  4,  0,  5,  0,  6,  8,  9,  7,  5,\n",
      "         6,  2,  5,  0,  8,  1,  9,  7,  8,  8,  8, 10,  1,  0,  8,  9])), (tensor([0, 0, 0, 0, 0, 0, 0, 0, 0, 0, 0, 0, 0, 0, 0, 0, 0, 0, 0, 0, 0, 0, 0, 0,\n",
      "        0, 0, 0, 0, 0, 0, 0, 0, 0, 0, 0, 0, 0, 0, 0, 0, 0, 0, 0, 0, 0, 0, 0, 0,\n",
      "        0, 0, 0, 0, 0, 0, 0, 0, 0, 0, 0, 0, 0, 0, 0, 0, 0, 0, 0, 0, 0, 0, 0, 0,\n",
      "        0, 0, 0, 0, 0, 0, 0, 0, 0, 0, 0, 0, 0, 0, 0, 0, 0, 0, 0, 0, 0, 0, 0, 0,\n",
      "        0, 0, 0, 0, 0, 0, 0, 0, 0, 0, 0, 0, 0, 0, 0, 0, 0, 0, 0, 0, 0, 0, 0, 0,\n",
      "        0, 0, 0, 0, 0, 0, 0, 0, 0, 0, 0, 0, 0, 0, 0, 0, 0, 0, 0, 0, 0, 0, 0, 0,\n",
      "        0, 0, 0, 0, 0, 0, 0, 0, 0, 0, 0, 1, 2, 5, 0, 2]), tensor([ 2,  4,  1,  1,  2,  6,  8,  7,  7,  8,  0,  5,  0,  0,  3,  5,  4,  3,\n",
      "         2,  7,  3,  0,  6,  0,  4,  5,  6,  8,  3,  7,  5,  0,  2,  7,  1,  4,\n",
      "         6,  9,  0,  8,  7,  4,  5,  1,  2,  9,  2,  2,  4,  2,  6,  7,  0,  2,\n",
      "         0,  9,  5,  7,  3,  3,  8,  6,  7,  7,  7,  7,  8,  2,  8,  3,  8,  1,\n",
      "         4,  3,  2,  7,  8,  5,  5,  8,  8,  5,  0,  8,  1,  6,  8,  1,  8,  9,\n",
      "         0,  2,  7,  5,  3,  9,  0,  2,  6,  6,  5,  3,  8,  3,  9,  3,  8,  1,\n",
      "         6,  9,  4,  2,  2,  7,  9,  5,  4,  0,  3,  4,  2,  7,  5,  0,  8,  4,\n",
      "         4,  3,  5,  3,  3,  5,  5,  4,  4,  0,  5,  4,  2,  1,  3,  3,  2,  0,\n",
      "         0,  4,  2,  1,  1,  7,  8,  5,  7,  2,  8, 10,  3,  1,  2,  4])), (tensor([0, 0, 0, 0, 0, 0, 0, 0, 0, 0, 0, 0, 0, 0, 0, 0, 0, 0, 0, 0, 0, 0, 0, 0,\n",
      "        0, 0, 0, 0, 0, 0, 0, 0, 0, 0, 0, 0, 0, 0, 0, 0, 0, 0, 0, 0, 0, 0, 0, 0,\n",
      "        0, 0, 0, 0, 0, 0, 0, 0, 0, 0, 0, 0, 0, 0, 0, 0, 0, 0, 0, 0, 0, 0, 0, 0,\n",
      "        0, 0, 0, 0, 0, 0, 0, 0, 0, 0, 0, 0, 0, 0, 0, 0, 0, 0, 0, 0, 0, 0, 0, 0,\n",
      "        0, 0, 0, 0, 0, 0, 0, 0, 0, 0, 0, 0, 0, 0, 0, 0, 0, 0, 0, 0, 0, 0, 0, 0,\n",
      "        0, 0, 0, 0, 0, 0, 0, 0, 0, 0, 0, 0, 0, 0, 0, 0, 0, 0, 0, 0, 0, 0, 0, 0,\n",
      "        0, 0, 0, 0, 0, 0, 0, 0, 0, 0, 0, 1, 5, 4, 9, 0]), tensor([ 4,  1,  0,  9,  8,  6,  4,  9,  7,  0,  7,  2,  2,  7,  6,  2,  3,  8,\n",
      "         7,  8,  1,  0,  3,  3,  0,  9,  5,  0,  8,  6,  3,  1,  7,  6,  3,  6,\n",
      "         9,  6,  2,  9,  5,  8,  0,  4,  2,  2,  8,  3,  9,  9,  3,  8,  5,  1,\n",
      "         7,  9,  7,  3,  7,  0,  5,  7,  9,  8,  3,  3,  3,  3,  0,  7,  2,  4,\n",
      "         4,  9,  3,  0,  1,  1,  5,  0,  3,  7,  2,  1,  1,  4,  3,  4,  1,  6,\n",
      "         1,  3,  4,  5,  6,  8,  1,  3,  4,  4,  5,  0,  7,  1,  1,  2,  1,  3,\n",
      "         0,  0,  7,  3,  9,  9,  0,  9,  8,  3,  3,  6,  2,  1,  9,  3,  1,  4,\n",
      "         5,  6,  2,  7,  2,  2,  6,  7,  8,  6,  9,  6,  2,  5,  9,  8,  7,  2,\n",
      "         5,  9,  4,  3,  7,  1,  5,  4,  3,  0,  4, 10,  3,  8,  6,  8])), (tensor([0, 0, 0, 0, 0, 0, 0, 0, 0, 0, 0, 0, 0, 0, 0, 0, 0, 0, 0, 0, 0, 0, 0, 0,\n",
      "        0, 0, 0, 0, 0, 0, 0, 0, 0, 0, 0, 0, 0, 0, 0, 0, 0, 0, 0, 0, 0, 0, 0, 0,\n",
      "        0, 0, 0, 0, 0, 0, 0, 0, 0, 0, 0, 0, 0, 0, 0, 0, 0, 0, 0, 0, 0, 0, 0, 0,\n",
      "        0, 0, 0, 0, 0, 0, 0, 0, 0, 0, 0, 0, 0, 0, 0, 0, 0, 0, 0, 0, 0, 0, 0, 0,\n",
      "        0, 0, 0, 0, 0, 0, 0, 0, 0, 0, 0, 0, 0, 0, 0, 0, 0, 0, 0, 0, 0, 0, 0, 0,\n",
      "        0, 0, 0, 0, 0, 0, 0, 0, 0, 0, 0, 0, 0, 0, 0, 0, 0, 0, 0, 0, 0, 0, 0, 0,\n",
      "        0, 0, 0, 0, 0, 0, 0, 0, 0, 0, 0, 1, 0, 4, 4, 0]), tensor([ 7,  4,  4,  8,  3,  4,  3,  7,  9,  2,  1,  9,  9,  6,  6,  7,  3,  7,\n",
      "         6,  7,  4,  6,  7,  6,  3,  7,  3,  2,  0,  3,  0,  3,  9,  6,  7,  6,\n",
      "         4,  3,  2,  3,  3,  1,  2,  8,  7,  9,  2,  1,  0,  7,  6,  9,  6,  7,\n",
      "         9,  1,  6,  9,  1,  1,  3,  6,  5,  1,  2,  6,  2,  3,  3,  0,  4,  4,\n",
      "         3,  5,  0,  0,  6,  1,  8,  6,  6,  5,  1,  2,  0,  3,  5,  1,  9,  1,\n",
      "         0,  0,  2,  9,  5,  6,  6,  5,  6,  3,  5,  9,  3,  1,  6,  4,  0,  5,\n",
      "         6,  5,  4,  0,  5,  9,  7,  6,  7,  8,  0,  1,  5,  4,  9,  9,  7,  1,\n",
      "         3,  7,  0,  0,  6,  5,  2,  3,  8,  9,  2,  5,  0,  4,  7,  8,  8,  5,\n",
      "         9,  6,  1,  5,  8,  3,  6,  5,  6,  9,  6, 10,  2,  6,  0,  7])), (tensor([0, 0, 0, 0, 0, 0, 0, 0, 0, 0, 0, 0, 0, 0, 0, 0, 0, 0, 0, 0, 0, 0, 0, 0,\n",
      "        0, 0, 0, 0, 0, 0, 0, 0, 0, 0, 0, 0, 0, 0, 0, 0, 0, 0, 0, 0, 0, 0, 0, 0,\n",
      "        0, 0, 0, 0, 0, 0, 0, 0, 0, 0, 0, 0, 0, 0, 0, 0, 0, 0, 0, 0, 0, 0, 0, 0,\n",
      "        0, 0, 0, 0, 0, 0, 0, 0, 0, 0, 0, 0, 0, 0, 0, 0, 0, 0, 0, 0, 0, 0, 0, 0,\n",
      "        0, 0, 0, 0, 0, 0, 0, 0, 0, 0, 0, 0, 0, 0, 0, 0, 0, 0, 0, 0, 0, 0, 0, 0,\n",
      "        0, 0, 0, 0, 0, 0, 0, 0, 0, 0, 0, 0, 0, 0, 0, 0, 0, 0, 0, 0, 0, 0, 0, 0,\n",
      "        0, 0, 0, 0, 0, 0, 0, 0, 0, 0, 0, 0, 5, 7, 0, 5]), tensor([ 2,  6,  0,  7,  9,  4,  1,  3,  9,  4,  5,  3,  9,  9,  7,  6,  0,  1,\n",
      "         7,  8,  5,  2,  0,  8,  0,  3,  3,  5,  2,  4,  4,  6,  6,  2,  1,  3,\n",
      "         2,  1,  2,  0,  9,  4,  5,  1,  2,  8,  4,  7,  6,  4,  4,  8,  2,  1,\n",
      "         4,  3,  0,  2,  4,  7,  3,  4,  6,  3,  1,  3,  3,  1,  8,  5,  8,  6,\n",
      "         4,  2,  1,  7,  4,  1,  6,  4,  1,  0,  8,  9,  7,  4,  8,  7,  3,  1,\n",
      "         3,  1,  8,  9,  5,  5,  3,  1,  9,  5,  7,  4,  3,  5,  1,  9,  2,  9,\n",
      "         0,  5,  0,  0,  5,  5,  4,  1,  6,  3,  6,  3,  9,  0,  9,  6,  7,  8,\n",
      "         7,  2,  2,  0,  8,  4,  7,  0,  6,  9,  6,  6,  7,  7,  6,  5,  1,  4,\n",
      "         7,  6,  1,  6,  5,  6,  8,  9,  3,  4,  4, 10,  1,  4,  2,  4]))]\n"
     ]
    }
   ],
   "source": [
    "ds = FactorialDataset(size=30)\n",
    "ds2 = [ds.__getitem__(i) for i in range(30)]\n",
    "print(ds2)"
   ]
  }
 ],
 "metadata": {
  "kernelspec": {
   "display_name": ".venv (3.10.18)",
   "language": "python",
   "name": "python3"
  },
  "language_info": {
   "codemirror_mode": {
    "name": "ipython",
    "version": 3
   },
   "file_extension": ".py",
   "mimetype": "text/x-python",
   "name": "python",
   "nbconvert_exporter": "python",
   "pygments_lexer": "ipython3",
   "version": "3.10.18"
  }
 },
 "nbformat": 4,
 "nbformat_minor": 5
}
